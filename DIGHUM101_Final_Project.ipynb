{
 "cells": [
  {
   "cell_type": "markdown",
   "id": "a7bb4fb2-63b7-412e-a1c2-e050accaca72",
   "metadata": {},
   "source": [
    " ##  Streamed vs. Radio"
   ]
  },
  {
   "cell_type": "markdown",
   "id": "6449723e-075d-48b1-bf0c-df82dfdfc900",
   "metadata": {},
   "source": [
    "## Introduction\n",
    "\n",
    "This project focuses on popularity trends within the music industry. Specifically, this study examines the variation in radio and streaming music preferences from 2013 to 2022. Using the Billboard APIs, we can observe correlation between streamed music and radio music. Further, using the Genius API, we will look at the number of unique words in radio music versus streamed music. I am interested in whether or not the vocabulary of radio music and streamed songs have progressed at a similar rate during the last decade. "
   ]
  },
  {
   "cell_type": "markdown",
   "id": "00808612-f677-42d8-a9fe-05eb98915b94",
   "metadata": {},
   "source": [
    "## Hypothesis\n",
    "\n",
    "My hypothesis is that streaming preferences were once in alignment with the songs on the radio, but this has occurred less and less over time. Factors responsible for this change could include an increase in streaming availability, making all types of music more accessible to audiences."
   ]
  },
  {
   "cell_type": "markdown",
   "id": "04e5c0e2-720d-48bf-b49a-0ef7d9220898",
   "metadata": {},
   "source": [
    "## APIs\n",
    "\n",
    "This project uses the Billboard and LyricGenius APIs. "
   ]
  },
  {
   "cell_type": "code",
   "execution_count": null,
   "id": "1f5ebd4e-a99d-49ee-8abf-201471650bac",
   "metadata": {
    "tags": []
   },
   "outputs": [
    {
     "ename": "ModuleNotFoundError",
     "evalue": "No module named 'billboard'",
     "output_type": "error",
     "traceback": [
      "\u001b[0;31m---------------------------------------------------------------------------\u001b[0m",
      "\u001b[0;31mModuleNotFoundError\u001b[0m                       Traceback (most recent call last)",
      "Input \u001b[0;32mIn [12]\u001b[0m, in \u001b[0;36m<cell line: 2>\u001b[0;34m()\u001b[0m\n\u001b[1;32m      1\u001b[0m \u001b[38;5;66;03m# Import billoard and genius APIs\u001b[39;00m\n\u001b[0;32m----> 2\u001b[0m \u001b[38;5;28;01mimport\u001b[39;00m \u001b[38;5;21;01mbillboard\u001b[39;00m\n\u001b[1;32m      3\u001b[0m \u001b[38;5;28;01mimport\u001b[39;00m \u001b[38;5;21;01mlyricsgenius\u001b[39;00m\n\u001b[1;32m      5\u001b[0m \u001b[38;5;66;03m#Import Python tools for handling numbers and statistics\u001b[39;00m\n",
      "\u001b[0;31mModuleNotFoundError\u001b[0m: No module named 'billboard'"
     ]
    }
   ],
   "source": [
    "\n",
    "\n",
    "# Import billoard and genius APIs\n",
    "import billboard\n",
    "import lyricsgenius\n",
    "\n",
    "#Import Python tools for handling numbers and statistics\n",
    "import numpy\n",
    "import statistics\n",
    "\n",
    "# Using my unique genius API key. \n",
    "genius = lyricsgenius.Genius(\"R68yfEAxTTnQh-X7dkseqDysn96StA92nZJQn6gqy5JrZhmQbm6kWZvT7WH22s1s\")\n",
    "\n",
    "print(\"Percent of top streaming songs matching top radio songs\")\n",
    "\n",
    "# start of a delimited output report, header\n",
    "report = \"year\\tpercent radio matching streaming\\tstreaming avg vocab\\tradio avg vocab\\tstreaming median vocab\\tradio median vocab\\n\"\n",
    "\n",
    "# this is the available range of data from billboard API, 2013-2022\n",
    "for year in range(2013, 2022):\n",
    "    # get the chart of top streaming songs\n",
    "    chartStreaming = billboard.ChartData('streaming-songs', year=year)\n",
    "    \n",
    "    # get the chart of top radio songs\n",
    "    chartRadio = billboard.ChartData('radio-songs', year=year)\n",
    "    \n",
    "    # keep track of unqiue words per song\n",
    "    wordsStreaming = []\n",
    "    wordsRadio = []\n",
    "\n",
    "    songsStreaming = []\n",
    "    print(\"processing streaming \", year)\n",
    "    # get the lyrics for each of the songs returned above, retry if API fails\n",
    "    for song in chartStreaming: # for each song in chartStreaming\n",
    "        lyric = None \n",
    "        keepTryingGenius = True\n",
    "        retryCount = 20\n",
    "        while keepTryingGenius == True and retryCount > 0:\n",
    "            try:\n",
    "                lyric = genius.search_song(song.title, song.artist) # get the lyrics to the song\n",
    "                keepTryingGenius = False # stop even if lyric is empty (not found)\n",
    "            except:\n",
    "                print(\"We need to retry \", song.title, \" by \", song.artist)\n",
    "                retryCount = retryCount - 1\n",
    "        if lyric != None:\n",
    "            count = len(set(lyric.lyrics.split())) # count the unique words in song lycrics\n",
    "            wordsStreaming.append(count) # append the count to the list of streaming words\n",
    "        songsStreaming.append(song.title) # in theory titles with different artists could match; in practice, not\n",
    "\n",
    "    # same as above, but for radio\n",
    "    # a generic function could be written to reduce duplication\n",
    "    songsRadio = []\n",
    "    print(\"processing radio \", year)\n",
    "    for song in chartRadio:\n",
    "        lyric = None \n",
    "        keepTryingGenius = True\n",
    "        retryCount = 20\n",
    "        if(song.title.startswith(\"2017\")): # the 2017 grammys is not a single song. ignore it.\n",
    "            keepTryingGenius = False # ignore a series of grouped songs, special case, not relevant\n",
    "        while keepTryingGenius == True and retryCount > 0:\n",
    "            try:\n",
    "                lyric = genius.search_song(song.title, song.artist)\n",
    "                keepTryingGenius = False # stop even if lyric is empty (not found)\n",
    "            except:\n",
    "                print(\"We need to retry \", song.title, \" by \", song.artist)\n",
    "                retryCount = retryCount - 1\n",
    "        if lyric != None:\n",
    "            count = len(set(lyric.lyrics.split()))\n",
    "            wordsRadio.append(count)\n",
    "        songsRadio.append(song.title)\n",
    "\n",
    "    d = [value for value in songsStreaming if value in songsRadio] # d becomes count of matching songs between radio and streaming per year\n",
    "    percentMatch = len(d) / len(songsRadio) # calculate percent match instead of absolute number\n",
    "    # add to report\n",
    "    report = report + str(year) + \"\\t\" + str(len(d)) + \"%\\t\" +  str(numpy.average(wordsStreaming)) + \"\\t\" + str(numpy.average(wordsRadio)) + \"\\t\" + str(statistics.median(wordsStreaming)) + \"\\t\" + str(statistics.median(wordsRadio)) + \"\\n\"\n",
    "\n",
    "# when loop is complete processing all years, print the report\n",
    "print(report)\n",
    "\n",
    "\n",
    "\n"
   ]
  },
  {
   "cell_type": "raw",
   "id": "d07c7f5c-2956-4ee1-a137-acc2c901e30b",
   "metadata": {
    "tags": []
   },
   "source": [
    "year\tpercent radio matching streaming\tstreaming avg vocab\tradio avg vocab\tstreaming median vocab\tradio median vocab\n",
    "2013\t45%\t269\t256\t148.5\t139\n",
    "2014\t51%\t194\t147\t138\t137.5\n",
    "2015\t48%\t178\t155\t156.5\t143\n",
    "2016\t50%\t210\t362\t156\t148\n",
    "2017\t42%\t217\t185\t202\t145\n",
    "2018\t35%\t222\t171\t194\t149\n",
    "2019\t44%\t203\t174\t179\t144.5\n",
    "2020\t42%\t220\t191\t174\t144\n",
    "2021\t33%\t237\t184\t212.5\t149"
   ]
  },
  {
   "cell_type": "markdown",
   "id": "a944dbf0-aa93-4111-9d86-691b81635c83",
   "metadata": {
    "tags": []
   },
   "source": [
    "![Radio Streaming Percent Match](radio_streaming_match.jpg) ![Streaming_Vs_Radio_Vocab](streaming_vs_radio_vocab.jpg)\n"
   ]
  },
  {
   "cell_type": "markdown",
   "id": "6847d258-967d-4116-ada7-91cf5df9d907",
   "metadata": {},
   "source": [
    "## Conclussion \n",
    "\n",
    "These results indicate that people once streamed similar music to what was played on the radio, but this pattern has been occurring less and less from 2013 to 2022. Further, the vocabulary of streamed music versus radio was once the same, but the number of unique words in streaming music has drastically increased, while the number of unique words in radio music has remained static. \n",
    "\n",
    "These results leave me with more significant questions, such as why the number of unique words in streaming music continues to grow. Perhaps radio is meant for a wide general audience, making it impossible for the preferences of all audience members to be exemplified. Has pandemic lockdown impacted the time that people spend listening to the radio, making listeners more likely to stream new songs? Streaming versus radio preferences began to take a big shift in 2014, indicating that this hypothesis could not be the only factor responsible for the relationship between radio and streaming.\n"
   ]
  },
  {
   "cell_type": "code",
   "execution_count": null,
   "id": "0a818eec-070f-43ce-8e92-999319bfd8a1",
   "metadata": {},
   "outputs": [],
   "source": []
  }
 ],
 "metadata": {
  "kernelspec": {
   "display_name": "Python 3 (ipykernel)",
   "language": "python",
   "name": "python3"
  },
  "language_info": {
   "codemirror_mode": {
    "name": "ipython",
    "version": 3
   },
   "file_extension": ".py",
   "mimetype": "text/x-python",
   "name": "python",
   "nbconvert_exporter": "python",
   "pygments_lexer": "ipython3",
   "version": "3.9.12"
  }
 },
 "nbformat": 4,
 "nbformat_minor": 5
}
